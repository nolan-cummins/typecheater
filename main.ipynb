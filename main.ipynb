{
 "cells": [
  {
   "cell_type": "code",
   "execution_count": 252,
   "id": "34bcb638-7bc9-4103-ae08-29f5cdceb985",
   "metadata": {
    "execution": {
     "iopub.execute_input": "2025-05-27T22:53:05.972911Z",
     "iopub.status.busy": "2025-05-27T22:53:05.972726Z",
     "iopub.status.idle": "2025-05-27T22:53:29.521578Z",
     "shell.execute_reply": "2025-05-27T22:53:29.521161Z",
     "shell.execute_reply.started": "2025-05-27T22:53:05.972898Z"
    }
   },
   "outputs": [
    {
     "name": "stdout",
     "output_type": "stream",
     "text": [
      "TypeRacer - Play Typing Games and Race Friends\n",
      "A sapling must have good soil in order to grow strong. Infertile soil will not bring forth splendid fruit.\n",
      "Typing!\n",
      "Finished!\n",
      "\n"
     ]
    }
   ],
   "source": [
    "from selenium import webdriver\n",
    "from selenium.webdriver.firefox.options import Options\n",
    "from selenium.webdriver.common.by import By\n",
    "from selenium.webdriver.support.ui import WebDriverWait\n",
    "from selenium.webdriver.support import expected_conditions as EC\n",
    "from selenium.common.exceptions import NoSuchElementException\n",
    "from time import *\n",
    "import numpy as np\n",
    "from urllib.parse import urljoin\n",
    "import requests\n",
    "from google.cloud import vision\n",
    "import os\n",
    "\n",
    "def calcDelay(n: int) -> float:\n",
    "    \"\"\"\n",
    "    0.2: upper limit (s)\n",
    "    0.02: lower limit (s)\n",
    "    \"\"\"\n",
    "    return 0.2-0.18/n\n",
    "\n",
    "opts = Options()\n",
    "driver = webdriver.Firefox(options=opts)\n",
    "driver.get(\"https://play.typeracer.com/\")\n",
    "\n",
    "print(driver.title) \n",
    "driver.switch_to.window(driver.current_window_handle)\n",
    "driver.minimize_window()\n",
    "driver.maximize_window()\n",
    "driver.execute_script(\"window.focus();\")\n",
    "\n",
    "_ = WebDriverWait(driver, 5).until(EC.presence_of_element_located((By.CSS_SELECTOR, 'a.prompt-button.bkgnd-green')))\n",
    "\n",
    "# You can put the entire code block below into a while loop to endlessly play\n",
    "# while True:\n",
    "\n",
    "try:\n",
    "    button = driver.find_element(By.CSS_SELECTOR, 'a.prompt-button.bkgnd-green')\n",
    "    button.click()\n",
    "except:\n",
    "    button = driver.find_element(By.CSS_SELECTOR, \"a.raceAgainLink.raceAgainLink-green\")\n",
    "    button.click()\n",
    "    \n",
    "container = WebDriverWait(driver, 5).until(EC.presence_of_element_located((By.CSS_SELECTOR, 'table.inputPanel.smoothCaretInputBox')))\n",
    "spans = container.find_elements(By.TAG_NAME, \"span\")\n",
    "msg1 = spans[0].text\n",
    "msg2 = spans[1].text\n",
    "if len(spans) > 2:\n",
    "    msg_remainder = spans[2].text\n",
    "    if msg_remainder == \" \":\n",
    "        msg_remainder=\"\"\n",
    "    elif msg_remainder[0].isalpha():\n",
    "        msg_remainder = \" \"+msg_remainder\n",
    "else:\n",
    "    msg_remainder=\"\"\n",
    "if len(msg2.split()) > 1:\n",
    "    message = msg1+\" \"+msg2\n",
    "else:\n",
    "    message = msg1+msg2+msg_remainder\n",
    "print(message)\n",
    "\n",
    "WebDriverWait(driver, 30).until(\n",
    "    lambda d: d.find_element(By.CSS_SELECTOR, \"input.txtInput\").get_attribute(\"disabled\") is None\n",
    ")\n",
    "\n",
    "print('Typing!')\n",
    "\n",
    "text_input = WebDriverWait(driver, 5).until(EC.presence_of_element_located((By.CSS_SELECTOR, 'input.txtInput')))\n",
    "text_input.clear()\n",
    "words = message.split()\n",
    "for i, word in enumerate(words):\n",
    "    text_input.send_keys(word)\n",
    "    if i < len(words)-1:\n",
    "        text_input.send_keys(\" \")\n",
    "    sleep(calcDelay(len(word)))\n",
    "print('Finished!\\n')\n",
    "\n",
    "# Wait 1 second between each play\n",
    "# sleep(1)"
   ]
  },
  {
   "cell_type": "code",
   "execution_count": 253,
   "id": "4cbc28d4-17df-4fa0-992f-d3cc005e697b",
   "metadata": {
    "execution": {
     "iopub.execute_input": "2025-05-27T22:53:33.395474Z",
     "iopub.status.busy": "2025-05-27T22:53:33.395232Z",
     "iopub.status.idle": "2025-05-27T22:53:34.639929Z",
     "shell.execute_reply": "2025-05-27T22:53:34.639573Z",
     "shell.execute_reply.started": "2025-05-27T22:53:33.395460Z"
    }
   },
   "outputs": [],
   "source": [
    "\"\"\"\n",
    "Use this code block to circumvent the verification prompt.\n",
    "\n",
    "Create a Google Cloud account to use Vision AI API. \n",
    "Replace the 'GOOGLE_APPLICATION_CREDENTIALS' with the path to the .json file.\n",
    "\"\"\"\n",
    "\n",
    "try:\n",
    "    button = WebDriverWait(driver, 1).until(EC.element_to_be_clickable((By.XPATH, \"//button[text()='Begin Test']\")))\n",
    "    button.click()\n",
    "except:\n",
    "    button = WebDriverWait(driver, 1).until(EC.element_to_be_clickable((By.XPATH, \"//button[text()='Begin Re-test']\")))\n",
    "    button.click()\n",
    "\n",
    "challenge = WebDriverWait(driver, 5).until(EC.presence_of_element_located((By.CSS_SELECTOR, 'img.challengeImg')))\n",
    "src = urljoin(driver.current_url, challenge.get_attribute(\"src\"))\n",
    "session = requests.Session()\n",
    "for c in driver.get_cookies():\n",
    "    session.cookies.set(c['name'], c['value'])\n",
    "resp = session.get(src)\n",
    "content = resp.content\n",
    "\n",
    "os.environ[\"GOOGLE_APPLICATION_CREDENTIALS\"] = \"YOUR JSON CREDENTIAL FILE PATH\" # .json\n",
    "client = vision.ImageAnnotatorClient()\n",
    "\n",
    "vision_image = vision.Image(content=content)\n",
    "response = client.text_detection(image=vision_image)\n",
    "if response.error.message:\n",
    "    raise Exception(response.error.message)\n",
    "all_text = response.full_text_annotation.text if response.full_text_annotation else \"\"\n",
    "\n",
    "ta = driver.find_element(By.CSS_SELECTOR, \"textarea.challengeTextArea\")\n",
    "ta.clear()\n",
    "ta.send_keys(all_text)\n",
    "\n",
    "button = WebDriverWait(driver, 5).until(EC.element_to_be_clickable((By.XPATH, \"//button[text()='Submit']\")))\n",
    "button.click()"
   ]
  },
  {
   "cell_type": "code",
   "execution_count": 251,
   "id": "f28b0fac-f50d-4393-94c9-f01485045a65",
   "metadata": {
    "execution": {
     "iopub.execute_input": "2025-05-27T22:51:09.127524Z",
     "iopub.status.busy": "2025-05-27T22:51:09.127279Z",
     "iopub.status.idle": "2025-05-27T22:51:15.706561Z",
     "shell.execute_reply": "2025-05-27T22:51:15.705957Z",
     "shell.execute_reply.started": "2025-05-27T22:51:09.127509Z"
    }
   },
   "outputs": [],
   "source": [
    "driver.quit() # close Firefox"
   ]
  }
 ],
 "metadata": {
  "kernelspec": {
   "display_name": "Python 3 (ipykernel)",
   "language": "python",
   "name": "python3"
  },
  "language_info": {
   "codemirror_mode": {
    "name": "ipython",
    "version": 3
   },
   "file_extension": ".py",
   "mimetype": "text/x-python",
   "name": "python",
   "nbconvert_exporter": "python",
   "pygments_lexer": "ipython3",
   "version": "3.13.3"
  }
 },
 "nbformat": 4,
 "nbformat_minor": 5
}
